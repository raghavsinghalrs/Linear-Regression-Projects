{
 "cells": [
  {
   "cell_type": "code",
   "execution_count": 24,
   "id": "381e1423",
   "metadata": {},
   "outputs": [],
   "source": [
    "import numpy as np\n",
    "import pandas as pd\n",
    "import matplotlib.pyplot as plt\n",
    "import seaborn as sns\n",
    "from sklearn.model_selection import train_test_split\n",
    "from sklearn.linear_model import Lasso\n",
    "from sklearn.linear_model import LinearRegression\n",
    "from sklearn import metrics"
   ]
  },
  {
   "cell_type": "code",
   "execution_count": 2,
   "id": "2cc06efe",
   "metadata": {},
   "outputs": [],
   "source": [
    "data = pd.read_csv(\"car data.csv\")"
   ]
  },
  {
   "cell_type": "code",
   "execution_count": 3,
   "id": "e5605fa6",
   "metadata": {},
   "outputs": [
    {
     "data": {
      "text/html": [
       "<div>\n",
       "<style scoped>\n",
       "    .dataframe tbody tr th:only-of-type {\n",
       "        vertical-align: middle;\n",
       "    }\n",
       "\n",
       "    .dataframe tbody tr th {\n",
       "        vertical-align: top;\n",
       "    }\n",
       "\n",
       "    .dataframe thead th {\n",
       "        text-align: right;\n",
       "    }\n",
       "</style>\n",
       "<table border=\"1\" class=\"dataframe\">\n",
       "  <thead>\n",
       "    <tr style=\"text-align: right;\">\n",
       "      <th></th>\n",
       "      <th>Car_Name</th>\n",
       "      <th>Year</th>\n",
       "      <th>Selling_Price</th>\n",
       "      <th>Present_Price</th>\n",
       "      <th>Kms_Driven</th>\n",
       "      <th>Fuel_Type</th>\n",
       "      <th>Seller_Type</th>\n",
       "      <th>Transmission</th>\n",
       "      <th>Owner</th>\n",
       "    </tr>\n",
       "  </thead>\n",
       "  <tbody>\n",
       "    <tr>\n",
       "      <th>0</th>\n",
       "      <td>ritz</td>\n",
       "      <td>2014</td>\n",
       "      <td>3.35</td>\n",
       "      <td>5.59</td>\n",
       "      <td>27000</td>\n",
       "      <td>Petrol</td>\n",
       "      <td>Dealer</td>\n",
       "      <td>Manual</td>\n",
       "      <td>0</td>\n",
       "    </tr>\n",
       "    <tr>\n",
       "      <th>1</th>\n",
       "      <td>sx4</td>\n",
       "      <td>2013</td>\n",
       "      <td>4.75</td>\n",
       "      <td>9.54</td>\n",
       "      <td>43000</td>\n",
       "      <td>Diesel</td>\n",
       "      <td>Dealer</td>\n",
       "      <td>Manual</td>\n",
       "      <td>0</td>\n",
       "    </tr>\n",
       "    <tr>\n",
       "      <th>2</th>\n",
       "      <td>ciaz</td>\n",
       "      <td>2017</td>\n",
       "      <td>7.25</td>\n",
       "      <td>9.85</td>\n",
       "      <td>6900</td>\n",
       "      <td>Petrol</td>\n",
       "      <td>Dealer</td>\n",
       "      <td>Manual</td>\n",
       "      <td>0</td>\n",
       "    </tr>\n",
       "    <tr>\n",
       "      <th>3</th>\n",
       "      <td>wagon r</td>\n",
       "      <td>2011</td>\n",
       "      <td>2.85</td>\n",
       "      <td>4.15</td>\n",
       "      <td>5200</td>\n",
       "      <td>Petrol</td>\n",
       "      <td>Dealer</td>\n",
       "      <td>Manual</td>\n",
       "      <td>0</td>\n",
       "    </tr>\n",
       "    <tr>\n",
       "      <th>4</th>\n",
       "      <td>swift</td>\n",
       "      <td>2014</td>\n",
       "      <td>4.60</td>\n",
       "      <td>6.87</td>\n",
       "      <td>42450</td>\n",
       "      <td>Diesel</td>\n",
       "      <td>Dealer</td>\n",
       "      <td>Manual</td>\n",
       "      <td>0</td>\n",
       "    </tr>\n",
       "  </tbody>\n",
       "</table>\n",
       "</div>"
      ],
      "text/plain": [
       "  Car_Name  Year  Selling_Price  Present_Price  Kms_Driven Fuel_Type  \\\n",
       "0     ritz  2014           3.35           5.59       27000    Petrol   \n",
       "1      sx4  2013           4.75           9.54       43000    Diesel   \n",
       "2     ciaz  2017           7.25           9.85        6900    Petrol   \n",
       "3  wagon r  2011           2.85           4.15        5200    Petrol   \n",
       "4    swift  2014           4.60           6.87       42450    Diesel   \n",
       "\n",
       "  Seller_Type Transmission  Owner  \n",
       "0      Dealer       Manual      0  \n",
       "1      Dealer       Manual      0  \n",
       "2      Dealer       Manual      0  \n",
       "3      Dealer       Manual      0  \n",
       "4      Dealer       Manual      0  "
      ]
     },
     "execution_count": 3,
     "metadata": {},
     "output_type": "execute_result"
    }
   ],
   "source": [
    "data.head()"
   ]
  },
  {
   "cell_type": "code",
   "execution_count": 4,
   "id": "e99bf68d",
   "metadata": {},
   "outputs": [
    {
     "name": "stdout",
     "output_type": "stream",
     "text": [
      "<class 'pandas.core.frame.DataFrame'>\n",
      "RangeIndex: 301 entries, 0 to 300\n",
      "Data columns (total 9 columns):\n",
      " #   Column         Non-Null Count  Dtype  \n",
      "---  ------         --------------  -----  \n",
      " 0   Car_Name       301 non-null    object \n",
      " 1   Year           301 non-null    int64  \n",
      " 2   Selling_Price  301 non-null    float64\n",
      " 3   Present_Price  301 non-null    float64\n",
      " 4   Kms_Driven     301 non-null    int64  \n",
      " 5   Fuel_Type      301 non-null    object \n",
      " 6   Seller_Type    301 non-null    object \n",
      " 7   Transmission   301 non-null    object \n",
      " 8   Owner          301 non-null    int64  \n",
      "dtypes: float64(2), int64(3), object(4)\n",
      "memory usage: 21.3+ KB\n"
     ]
    }
   ],
   "source": [
    "data.info()"
   ]
  },
  {
   "cell_type": "code",
   "execution_count": 5,
   "id": "bd1a3f17",
   "metadata": {},
   "outputs": [
    {
     "data": {
      "text/plain": [
       "Car_Name         0\n",
       "Year             0\n",
       "Selling_Price    0\n",
       "Present_Price    0\n",
       "Kms_Driven       0\n",
       "Fuel_Type        0\n",
       "Seller_Type      0\n",
       "Transmission     0\n",
       "Owner            0\n",
       "dtype: int64"
      ]
     },
     "execution_count": 5,
     "metadata": {},
     "output_type": "execute_result"
    }
   ],
   "source": [
    "data.isnull().sum()"
   ]
  },
  {
   "cell_type": "code",
   "execution_count": 6,
   "id": "d589f10f",
   "metadata": {},
   "outputs": [
    {
     "data": {
      "text/plain": [
       "(301, 9)"
      ]
     },
     "execution_count": 6,
     "metadata": {},
     "output_type": "execute_result"
    }
   ],
   "source": [
    "data.shape"
   ]
  },
  {
   "cell_type": "code",
   "execution_count": 7,
   "id": "f3bffc40",
   "metadata": {},
   "outputs": [
    {
     "data": {
      "text/plain": [
       "Petrol    239\n",
       "Diesel     60\n",
       "CNG         2\n",
       "Name: Fuel_Type, dtype: int64"
      ]
     },
     "execution_count": 7,
     "metadata": {},
     "output_type": "execute_result"
    }
   ],
   "source": [
    "data.Fuel_Type.value_counts()"
   ]
  },
  {
   "cell_type": "code",
   "execution_count": 8,
   "id": "9f59a9f3",
   "metadata": {},
   "outputs": [
    {
     "data": {
      "text/plain": [
       "Dealer        195\n",
       "Individual    106\n",
       "Name: Seller_Type, dtype: int64"
      ]
     },
     "execution_count": 8,
     "metadata": {},
     "output_type": "execute_result"
    }
   ],
   "source": [
    "data.Seller_Type.value_counts()"
   ]
  },
  {
   "cell_type": "code",
   "execution_count": 9,
   "id": "a118ab22",
   "metadata": {},
   "outputs": [
    {
     "data": {
      "text/plain": [
       "Manual       261\n",
       "Automatic     40\n",
       "Name: Transmission, dtype: int64"
      ]
     },
     "execution_count": 9,
     "metadata": {},
     "output_type": "execute_result"
    }
   ],
   "source": [
    "data.Transmission.value_counts()"
   ]
  },
  {
   "cell_type": "markdown",
   "id": "d0d8253c",
   "metadata": {},
   "source": [
    "# Encoding the categorical data"
   ]
  },
  {
   "cell_type": "code",
   "execution_count": 11,
   "id": "bfd073ec",
   "metadata": {},
   "outputs": [],
   "source": [
    "data.replace({'Fuel_Type':{'Petrol':0 , 'Diesel':1 ,'CNG':2}},inplace = True)"
   ]
  },
  {
   "cell_type": "code",
   "execution_count": 13,
   "id": "f884b620",
   "metadata": {},
   "outputs": [],
   "source": [
    "data.replace({'Seller_Type':{'Dealer':0 , 'Individual':1}},inplace = True)"
   ]
  },
  {
   "cell_type": "code",
   "execution_count": 15,
   "id": "9799a244",
   "metadata": {},
   "outputs": [],
   "source": [
    "data.replace({'Transmission':{'Manual':0 , 'Automatic':1}},inplace = True)"
   ]
  },
  {
   "cell_type": "code",
   "execution_count": 16,
   "id": "73080315",
   "metadata": {},
   "outputs": [
    {
     "data": {
      "text/html": [
       "<div>\n",
       "<style scoped>\n",
       "    .dataframe tbody tr th:only-of-type {\n",
       "        vertical-align: middle;\n",
       "    }\n",
       "\n",
       "    .dataframe tbody tr th {\n",
       "        vertical-align: top;\n",
       "    }\n",
       "\n",
       "    .dataframe thead th {\n",
       "        text-align: right;\n",
       "    }\n",
       "</style>\n",
       "<table border=\"1\" class=\"dataframe\">\n",
       "  <thead>\n",
       "    <tr style=\"text-align: right;\">\n",
       "      <th></th>\n",
       "      <th>Car_Name</th>\n",
       "      <th>Year</th>\n",
       "      <th>Selling_Price</th>\n",
       "      <th>Present_Price</th>\n",
       "      <th>Kms_Driven</th>\n",
       "      <th>Fuel_Type</th>\n",
       "      <th>Seller_Type</th>\n",
       "      <th>Transmission</th>\n",
       "      <th>Owner</th>\n",
       "    </tr>\n",
       "  </thead>\n",
       "  <tbody>\n",
       "    <tr>\n",
       "      <th>0</th>\n",
       "      <td>ritz</td>\n",
       "      <td>2014</td>\n",
       "      <td>3.35</td>\n",
       "      <td>5.59</td>\n",
       "      <td>27000</td>\n",
       "      <td>0</td>\n",
       "      <td>0</td>\n",
       "      <td>0</td>\n",
       "      <td>0</td>\n",
       "    </tr>\n",
       "    <tr>\n",
       "      <th>1</th>\n",
       "      <td>sx4</td>\n",
       "      <td>2013</td>\n",
       "      <td>4.75</td>\n",
       "      <td>9.54</td>\n",
       "      <td>43000</td>\n",
       "      <td>1</td>\n",
       "      <td>0</td>\n",
       "      <td>0</td>\n",
       "      <td>0</td>\n",
       "    </tr>\n",
       "    <tr>\n",
       "      <th>2</th>\n",
       "      <td>ciaz</td>\n",
       "      <td>2017</td>\n",
       "      <td>7.25</td>\n",
       "      <td>9.85</td>\n",
       "      <td>6900</td>\n",
       "      <td>0</td>\n",
       "      <td>0</td>\n",
       "      <td>0</td>\n",
       "      <td>0</td>\n",
       "    </tr>\n",
       "    <tr>\n",
       "      <th>3</th>\n",
       "      <td>wagon r</td>\n",
       "      <td>2011</td>\n",
       "      <td>2.85</td>\n",
       "      <td>4.15</td>\n",
       "      <td>5200</td>\n",
       "      <td>0</td>\n",
       "      <td>0</td>\n",
       "      <td>0</td>\n",
       "      <td>0</td>\n",
       "    </tr>\n",
       "    <tr>\n",
       "      <th>4</th>\n",
       "      <td>swift</td>\n",
       "      <td>2014</td>\n",
       "      <td>4.60</td>\n",
       "      <td>6.87</td>\n",
       "      <td>42450</td>\n",
       "      <td>1</td>\n",
       "      <td>0</td>\n",
       "      <td>0</td>\n",
       "      <td>0</td>\n",
       "    </tr>\n",
       "  </tbody>\n",
       "</table>\n",
       "</div>"
      ],
      "text/plain": [
       "  Car_Name  Year  Selling_Price  Present_Price  Kms_Driven  Fuel_Type  \\\n",
       "0     ritz  2014           3.35           5.59       27000          0   \n",
       "1      sx4  2013           4.75           9.54       43000          1   \n",
       "2     ciaz  2017           7.25           9.85        6900          0   \n",
       "3  wagon r  2011           2.85           4.15        5200          0   \n",
       "4    swift  2014           4.60           6.87       42450          1   \n",
       "\n",
       "   Seller_Type  Transmission  Owner  \n",
       "0            0             0      0  \n",
       "1            0             0      0  \n",
       "2            0             0      0  \n",
       "3            0             0      0  \n",
       "4            0             0      0  "
      ]
     },
     "execution_count": 16,
     "metadata": {},
     "output_type": "execute_result"
    }
   ],
   "source": [
    "data.head()"
   ]
  },
  {
   "cell_type": "markdown",
   "id": "d32a2398",
   "metadata": {},
   "source": [
    "# Splitting the data in to training and testing"
   ]
  },
  {
   "cell_type": "code",
   "execution_count": 18,
   "id": "501945d2",
   "metadata": {},
   "outputs": [],
   "source": [
    "x = data.drop(['Car_Name','Selling_Price'],axis=1)"
   ]
  },
  {
   "cell_type": "code",
   "execution_count": 19,
   "id": "11aacca4",
   "metadata": {},
   "outputs": [],
   "source": [
    "y = data.Selling_Price"
   ]
  },
  {
   "cell_type": "code",
   "execution_count": 20,
   "id": "f72a5a96",
   "metadata": {},
   "outputs": [
    {
     "data": {
      "text/html": [
       "<div>\n",
       "<style scoped>\n",
       "    .dataframe tbody tr th:only-of-type {\n",
       "        vertical-align: middle;\n",
       "    }\n",
       "\n",
       "    .dataframe tbody tr th {\n",
       "        vertical-align: top;\n",
       "    }\n",
       "\n",
       "    .dataframe thead th {\n",
       "        text-align: right;\n",
       "    }\n",
       "</style>\n",
       "<table border=\"1\" class=\"dataframe\">\n",
       "  <thead>\n",
       "    <tr style=\"text-align: right;\">\n",
       "      <th></th>\n",
       "      <th>Year</th>\n",
       "      <th>Present_Price</th>\n",
       "      <th>Kms_Driven</th>\n",
       "      <th>Fuel_Type</th>\n",
       "      <th>Seller_Type</th>\n",
       "      <th>Transmission</th>\n",
       "      <th>Owner</th>\n",
       "    </tr>\n",
       "  </thead>\n",
       "  <tbody>\n",
       "    <tr>\n",
       "      <th>0</th>\n",
       "      <td>2014</td>\n",
       "      <td>5.59</td>\n",
       "      <td>27000</td>\n",
       "      <td>0</td>\n",
       "      <td>0</td>\n",
       "      <td>0</td>\n",
       "      <td>0</td>\n",
       "    </tr>\n",
       "    <tr>\n",
       "      <th>1</th>\n",
       "      <td>2013</td>\n",
       "      <td>9.54</td>\n",
       "      <td>43000</td>\n",
       "      <td>1</td>\n",
       "      <td>0</td>\n",
       "      <td>0</td>\n",
       "      <td>0</td>\n",
       "    </tr>\n",
       "    <tr>\n",
       "      <th>2</th>\n",
       "      <td>2017</td>\n",
       "      <td>9.85</td>\n",
       "      <td>6900</td>\n",
       "      <td>0</td>\n",
       "      <td>0</td>\n",
       "      <td>0</td>\n",
       "      <td>0</td>\n",
       "    </tr>\n",
       "    <tr>\n",
       "      <th>3</th>\n",
       "      <td>2011</td>\n",
       "      <td>4.15</td>\n",
       "      <td>5200</td>\n",
       "      <td>0</td>\n",
       "      <td>0</td>\n",
       "      <td>0</td>\n",
       "      <td>0</td>\n",
       "    </tr>\n",
       "    <tr>\n",
       "      <th>4</th>\n",
       "      <td>2014</td>\n",
       "      <td>6.87</td>\n",
       "      <td>42450</td>\n",
       "      <td>1</td>\n",
       "      <td>0</td>\n",
       "      <td>0</td>\n",
       "      <td>0</td>\n",
       "    </tr>\n",
       "  </tbody>\n",
       "</table>\n",
       "</div>"
      ],
      "text/plain": [
       "   Year  Present_Price  Kms_Driven  Fuel_Type  Seller_Type  Transmission  \\\n",
       "0  2014           5.59       27000          0            0             0   \n",
       "1  2013           9.54       43000          1            0             0   \n",
       "2  2017           9.85        6900          0            0             0   \n",
       "3  2011           4.15        5200          0            0             0   \n",
       "4  2014           6.87       42450          1            0             0   \n",
       "\n",
       "   Owner  \n",
       "0      0  \n",
       "1      0  \n",
       "2      0  \n",
       "3      0  \n",
       "4      0  "
      ]
     },
     "execution_count": 20,
     "metadata": {},
     "output_type": "execute_result"
    }
   ],
   "source": [
    "x.head()"
   ]
  },
  {
   "cell_type": "code",
   "execution_count": 21,
   "id": "f3f38dcf",
   "metadata": {},
   "outputs": [
    {
     "data": {
      "text/plain": [
       "0    3.35\n",
       "1    4.75\n",
       "2    7.25\n",
       "3    2.85\n",
       "4    4.60\n",
       "Name: Selling_Price, dtype: float64"
      ]
     },
     "execution_count": 21,
     "metadata": {},
     "output_type": "execute_result"
    }
   ],
   "source": [
    "y.head()"
   ]
  },
  {
   "cell_type": "code",
   "execution_count": 22,
   "id": "6ee0feaf",
   "metadata": {},
   "outputs": [],
   "source": [
    "x_train,x_test,y_train,y_test=train_test_split(x,y,test_size=0.1,random_state=0)"
   ]
  },
  {
   "cell_type": "code",
   "execution_count": 25,
   "id": "adf66395",
   "metadata": {},
   "outputs": [],
   "source": [
    "LR = LinearRegression()"
   ]
  },
  {
   "cell_type": "code",
   "execution_count": 26,
   "id": "905c8758",
   "metadata": {},
   "outputs": [
    {
     "data": {
      "text/plain": [
       "LinearRegression()"
      ]
     },
     "execution_count": 26,
     "metadata": {},
     "output_type": "execute_result"
    }
   ],
   "source": [
    "LR.fit(x_train,y_train)"
   ]
  },
  {
   "cell_type": "code",
   "execution_count": 38,
   "id": "acc81ab1",
   "metadata": {},
   "outputs": [],
   "source": [
    "pred_LR = LR.predict(x_train)"
   ]
  },
  {
   "cell_type": "code",
   "execution_count": null,
   "id": "bcd6c28a",
   "metadata": {},
   "outputs": [],
   "source": []
  },
  {
   "cell_type": "code",
   "execution_count": 39,
   "id": "45d2bfd1",
   "metadata": {},
   "outputs": [
    {
     "data": {
      "text/plain": [
       "array([ 7.10723291e+00,  7.15382116e-01,  7.61249634e+00,  3.57230985e+00,\n",
       "        1.82052565e+00,  5.62063968e+00,  6.64407484e+00, -2.48019121e+00,\n",
       "        8.82132902e+00,  8.91849508e+00,  2.00780146e+01,  4.41907764e+00,\n",
       "        4.11961032e+00,  6.31533942e+00,  9.59114613e+00,  1.13679998e-01,\n",
       "        1.69161805e+00,  5.18465650e+00,  7.01854601e+00,  8.21067793e+00,\n",
       "        4.20220738e+00,  4.92812560e+00,  2.04324685e+01,  1.76410174e+00,\n",
       "        1.31150054e+00,  2.89754870e-01,  1.97793980e+00,  3.40493679e+00,\n",
       "        1.11131076e+00,  3.60488612e+00,  6.46782406e+00,  2.57077563e+00,\n",
       "        2.15818045e+01,  4.33944119e+00,  5.63244838e+00,  8.82928095e+00,\n",
       "        7.40890423e+00,  3.27531730e+00,  2.62642318e+00,  3.91503973e+00,\n",
       "        2.91647908e+00,  1.78933067e+00,  6.51444328e+00, -1.96223983e+00,\n",
       "        4.36282066e+00,  6.86678400e-01,  8.13801313e+00, -3.63493474e+00,\n",
       "        2.91320886e+00,  1.36571196e+00,  1.08723396e+01,  5.81201300e+00,\n",
       "        6.42676814e+00,  5.41097728e+00,  4.87318043e-01,  6.20050537e+00,\n",
       "        7.18140243e+00, -1.09176649e-01,  4.89209065e+00,  1.11751307e+00,\n",
       "        5.91483456e+00,  7.46816317e+00,  1.64519800e+00,  5.96584259e+00,\n",
       "       -9.89946746e-01,  7.70093013e-01, -4.68730882e-01,  2.30091213e+00,\n",
       "        8.62592586e-01,  4.93121460e+00,  6.95008382e+00,  5.32993243e-01,\n",
       "        6.20366678e+00,  3.50179251e-01,  2.01413065e+00,  7.08875855e+00,\n",
       "        2.79401668e+00,  5.85691074e+00,  2.57241587e+00,  8.24869500e+00,\n",
       "        4.18703966e+00,  1.74169594e+00,  6.55312193e-01,  7.14744761e+00,\n",
       "        9.12611744e+00,  1.88878859e+00,  6.26384876e+00,  9.10579984e+00,\n",
       "        1.05233240e+00,  1.45901296e+00,  1.96018207e+00,  5.21788556e+00,\n",
       "        7.72761967e+00,  1.02354794e+00,  7.92828478e+00,  4.89162985e+00,\n",
       "        4.71221165e+00,  2.18421972e+00,  4.43966339e+00,  4.20615705e+00,\n",
       "        5.80689053e+00,  1.62788904e+01,  2.88927891e-01,  5.08061785e+00,\n",
       "        1.01219059e+01,  1.13959133e+00, -2.92504240e+00,  2.03183938e-01,\n",
       "        4.44662436e+00,  7.09868665e+00,  7.07270024e-02,  5.17352720e+00,\n",
       "        6.09733670e-01, -1.44147406e+00,  2.16893961e+00,  3.25893617e+00,\n",
       "       -9.95302049e-01,  2.75158143e+00,  4.57880129e+00,  3.70961212e+00,\n",
       "        6.00164508e+00,  1.82082349e-01,  3.24442963e+00,  8.01461466e+00,\n",
       "        4.83691173e+00,  7.84212375e+00,  1.02375647e+01,  1.81194996e+01,\n",
       "        7.01329685e+00,  9.00574248e+00,  2.22608262e+00,  1.12088070e+00,\n",
       "        4.17720311e+01,  4.29052600e+00, -1.87080829e+00,  3.56150836e+00,\n",
       "        3.01484272e+00,  2.29624203e+00,  3.25711604e+00,  1.65543473e+01,\n",
       "        3.17105410e+00,  6.76517699e+00,  4.05412372e-01,  4.35536356e+00,\n",
       "        1.98535323e+01, -3.16925140e+00,  6.03258054e+00,  1.92005839e+00,\n",
       "        4.11062879e+00,  6.22525608e+00,  6.31060710e+00,  1.36610432e+00,\n",
       "        1.50493360e+00, -2.37100166e+00,  4.43539237e+00,  1.48114864e+00,\n",
       "        1.44536880e+00,  5.57055784e+00,  9.07547048e+00,  4.68434141e+00,\n",
       "        1.81194996e+01,  5.78191721e+00, -2.62635952e-03,  4.81086070e+00,\n",
       "        1.99976323e+00,  1.61693438e+00,  3.84323364e+00,  1.01450627e+01,\n",
       "        7.77399142e+00,  8.52080269e+00,  4.17035957e+00,  4.24753487e+00,\n",
       "        4.43176822e+00,  1.14608721e+01,  8.03903193e+00,  5.17431592e+00,\n",
       "        6.12919164e+00,  3.90111421e+00,  1.44377935e+00,  5.69011955e+00,\n",
       "        2.79455457e+00,  2.99830974e+00, -9.91398835e-01,  1.43105467e+00,\n",
       "        1.10033928e+01, -4.90007869e-01,  2.03121559e+00,  3.71560017e+00,\n",
       "        1.07386246e+00,  5.15679612e+00,  9.66111771e+00, -3.26364414e+00,\n",
       "        5.39774473e+00,  5.88876341e+00,  2.07426300e+00,  4.25181841e+00,\n",
       "       -1.84656002e-02, -1.22835813e-01,  3.74512531e-01,  7.67980596e+00,\n",
       "        9.58363546e+00,  1.01592988e+00,  7.77277800e+00,  9.77035819e+00,\n",
       "        1.67546861e+01,  3.69321444e+00,  7.69121715e+00,  8.44085256e-01,\n",
       "        2.36317268e+00,  6.46540996e+00,  7.84174689e+00,  9.74855516e-01,\n",
       "        6.76602638e+00,  5.82664096e+00,  6.58821510e+00,  1.73306237e+00,\n",
       "        4.41547607e+00,  4.18136196e-01,  1.99683475e+00,  1.73383100e+00,\n",
       "        2.00078305e+00,  1.66496430e+01,  8.31112053e+00,  4.77583933e+00,\n",
       "        9.82501468e+00,  3.92191564e+00,  1.56466646e+01,  4.40908136e+00,\n",
       "        1.96859509e+00,  1.45133806e+00,  1.19854201e-01, -8.77788585e-01,\n",
       "        1.26697417e+00,  6.49017494e+00,  4.27523915e+00,  2.19745133e+00,\n",
       "        6.10078868e+00,  1.52265148e+00, -2.15212114e-01,  7.29015080e+00,\n",
       "        6.17203560e+00,  8.39984365e-01,  5.95310838e+00,  2.77315413e+00,\n",
       "        1.01763641e+01, -1.10790941e+00,  5.63122871e+00,  1.36307077e+00,\n",
       "        6.42022829e+00,  9.00872646e+00,  2.44897258e+00,  2.90252260e+00,\n",
       "        7.71817422e+00,  9.04853581e-01,  4.24838812e+00,  3.83707355e-01,\n",
       "       -5.57801706e-01,  3.53355914e+00,  5.58524562e+00,  6.47376662e+00,\n",
       "        4.47877811e+00,  7.79231402e+00,  9.67809373e+00,  7.10080175e+00,\n",
       "        7.50587541e-01,  5.16973753e+00, -3.01059064e+00,  1.57362120e+00,\n",
       "       -1.48154395e-01,  6.29846087e-01])"
      ]
     },
     "execution_count": 39,
     "metadata": {},
     "output_type": "execute_result"
    }
   ],
   "source": [
    "pred_LR"
   ]
  },
  {
   "cell_type": "code",
   "execution_count": 41,
   "id": "af4c75f7",
   "metadata": {},
   "outputs": [
    {
     "data": {
      "text/plain": [
       "1.7814008063879632"
      ]
     },
     "execution_count": 41,
     "metadata": {},
     "output_type": "execute_result"
    }
   ],
   "source": [
    "rmse = np.sqrt(metrics.mean_squared_error(y_train,pred_LR))\n",
    "rmse"
   ]
  },
  {
   "cell_type": "code",
   "execution_count": 42,
   "id": "b7d2f1ee",
   "metadata": {},
   "outputs": [],
   "source": [
    "error_score = metrics.r2_score(y_train,pred_LR)"
   ]
  },
  {
   "cell_type": "code",
   "execution_count": 43,
   "id": "21500ac8",
   "metadata": {},
   "outputs": [
    {
     "data": {
      "text/plain": [
       "0.8787289819887416"
      ]
     },
     "execution_count": 43,
     "metadata": {},
     "output_type": "execute_result"
    }
   ],
   "source": [
    "error_score"
   ]
  },
  {
   "cell_type": "markdown",
   "id": "73c89314",
   "metadata": {},
   "source": [
    "# Visualization"
   ]
  },
  {
   "cell_type": "code",
   "execution_count": 44,
   "id": "6f73fd95",
   "metadata": {},
   "outputs": [
    {
     "data": {
      "image/png": "[encoded data removed]",
      "text/plain": [
       "<Figure size 432x288 with 1 Axes>"
      ]
     },
     "metadata": {
      "needs_background": "light"
     },
     "output_type": "display_data"
    }
   ],
   "source": [
    "plt.scatter(y_train,pred_LR)\n",
    "plt.xlabel(\"Actual Price\")\n",
    "plt.ylabel(\"Predicted Price\")\n",
    "plt.show()"
   ]
  },
  {
   "cell_type": "code",
   "execution_count": 45,
   "id": "9edeffa1",
   "metadata": {},
   "outputs": [],
   "source": [
    "pred_LR_test = LR.predict(x_test)"
   ]
  },
  {
   "cell_type": "code",
   "execution_count": 48,
   "id": "7cab5203",
   "metadata": {},
   "outputs": [
    {
     "data": {
      "text/plain": [
       "1.6682909698181987"
      ]
     },
     "execution_count": 48,
     "metadata": {},
     "output_type": "execute_result"
    }
   ],
   "source": [
    "rmse_test = np.sqrt(metrics.mean_squared_error(y_test,pred_LR_test))\n",
    "rmse_test"
   ]
  },
  {
   "cell_type": "code",
   "execution_count": 49,
   "id": "9c40a8f0",
   "metadata": {},
   "outputs": [
    {
     "data": {
      "text/plain": [
       "0.8735518306724901"
      ]
     },
     "execution_count": 49,
     "metadata": {},
     "output_type": "execute_result"
    }
   ],
   "source": [
    "error_score_test = metrics.r2_score(y_test,pred_LR_test)\n",
    "error_score_test"
   ]
  },
  {
   "cell_type": "code",
   "execution_count": 50,
   "id": "bdacb8c7",
   "metadata": {},
   "outputs": [
    {
     "data": {
      "image/png": "[encoded data removed]",
      "text/plain": [
       "<Figure size 432x288 with 1 Axes>"
      ]
     },
     "metadata": {
      "needs_background": "light"
     },
     "output_type": "display_data"
    }
   ],
   "source": [
    "plt.scatter(y_test,pred_LR_test)\n",
    "plt.show()"
   ]
  },
  {
   "cell_type": "code",
   "execution_count": 54,
   "id": "a6070fcb",
   "metadata": {},
   "outputs": [],
   "source": [
    "#Lasso Regression"
   ]
  },
  {
   "cell_type": "code",
   "execution_count": 55,
   "id": "a623fea5",
   "metadata": {},
   "outputs": [],
   "source": [
    "Lasso_R = Lasso()"
   ]
  },
  {
   "cell_type": "code",
   "execution_count": 56,
   "id": "5ec0cb4a",
   "metadata": {},
   "outputs": [
    {
     "data": {
      "text/plain": [
       "Lasso()"
      ]
     },
     "execution_count": 56,
     "metadata": {},
     "output_type": "execute_result"
    }
   ],
   "source": [
    "Lasso_R.fit(x_train,y_train)"
   ]
  },
  {
   "cell_type": "code",
   "execution_count": 57,
   "id": "35d55d13",
   "metadata": {},
   "outputs": [],
   "source": [
    "pred_Lasso_Train = Lasso_R.predict(x_train)"
   ]
  },
  {
   "cell_type": "code",
   "execution_count": 59,
   "id": "f7edd195",
   "metadata": {},
   "outputs": [
    {
     "data": {
      "text/plain": [
       "1.7814008063879632"
      ]
     },
     "execution_count": 59,
     "metadata": {},
     "output_type": "execute_result"
    }
   ],
   "source": [
    "rmse_Train = np.sqrt(metrics.mean_squared_error(y_train,pred_Lasso_Train))\n",
    "rmse"
   ]
  },
  {
   "cell_type": "code",
   "execution_count": 60,
   "id": "b15ae85b",
   "metadata": {},
   "outputs": [
    {
     "data": {
      "text/plain": [
       "0.8433838202800137"
      ]
     },
     "execution_count": 60,
     "metadata": {},
     "output_type": "execute_result"
    }
   ],
   "source": [
    "error_score_Train = metrics.r2_score(y_train,pred_Lasso_Train)\n",
    "error_score_Train"
   ]
  },
  {
   "cell_type": "code",
   "execution_count": 61,
   "id": "c6249d26",
   "metadata": {},
   "outputs": [],
   "source": [
    "pred_Lasso_Test = Lasso_R.predict(x_test)"
   ]
  },
  {
   "cell_type": "code",
   "execution_count": 63,
   "id": "e590936a",
   "metadata": {},
   "outputs": [
    {
     "data": {
      "text/plain": [
       "1.6682909698181987"
      ]
     },
     "execution_count": 63,
     "metadata": {},
     "output_type": "execute_result"
    }
   ],
   "source": [
    "rmse_Test = np.sqrt(metrics.mean_squared_error(y_test,pred_Lasso_Test))\n",
    "rmse_test"
   ]
  },
  {
   "cell_type": "code",
   "execution_count": 64,
   "id": "364cb3bd",
   "metadata": {},
   "outputs": [
    {
     "data": {
      "text/plain": [
       "0.8229445127489571"
      ]
     },
     "execution_count": 64,
     "metadata": {},
     "output_type": "execute_result"
    }
   ],
   "source": [
    "error_score_Test = metrics.r2_score(y_test,pred_Lasso_Test)\n",
    "error_score_Test"
   ]
  },
  {
   "cell_type": "code",
   "execution_count": null,
   "id": "a09b9aaf",
   "metadata": {},
   "outputs": [],
   "source": []
  }
 ],
 "metadata": {
  "kernelspec": {
   "display_name": "Python 3",
   "language": "python",
   "name": "python3"
  },
  "language_info": {
   "codemirror_mode": {
    "name": "ipython",
    "version": 3
   },
   "file_extension": ".py",
   "mimetype": "text/x-python",
   "name": "python",
   "nbconvert_exporter": "python",
   "pygments_lexer": "ipython3",
   "version": "3.9.5"
  }
 },
 "nbformat": 4,
 "nbformat_minor": 5
}
